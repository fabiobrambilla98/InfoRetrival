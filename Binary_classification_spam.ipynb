{
  "nbformat": 4,
  "nbformat_minor": 0,
  "metadata": {
    "colab": {
      "name": "Binary_classification_spam.ipynb",
      "provenance": [],
      "authorship_tag": "ABX9TyN35TLs3r5QVtnHJr3qliSk",
      "include_colab_link": true
    },
    "kernelspec": {
      "name": "python3",
      "display_name": "Python 3"
    },
    "language_info": {
      "name": "python"
    }
  },
  "cells": [
    {
      "cell_type": "markdown",
      "metadata": {
        "id": "view-in-github",
        "colab_type": "text"
      },
      "source": [
        "<a href=\"https://colab.research.google.com/github/fabiobrambilla98/InfoRetrival/blob/main/Binary_classification_spam.ipynb\" target=\"_parent\"><img src=\"https://colab.research.google.com/assets/colab-badge.svg\" alt=\"Open In Colab\"/></a>"
      ]
    },
    {
      "cell_type": "code",
      "execution_count": 1,
      "metadata": {
        "id": "R5NcEw_jDWOW"
      },
      "outputs": [],
      "source": [
        "import numpy as np\n",
        "import pandas as pd\n",
        "from tqdm.notebook import tqdm"
      ]
    },
    {
      "cell_type": "code",
      "source": [
        "import urllib.request\n",
        "import csv "
      ],
      "metadata": {
        "id": "BODBn5ZRIr61"
      },
      "execution_count": 2,
      "outputs": []
    },
    {
      "cell_type": "code",
      "source": [
        "import nltk\n",
        "nltk.download('punkt')"
      ],
      "metadata": {
        "colab": {
          "base_uri": "https://localhost:8080/"
        },
        "id": "i4IlkSDGL5Ww",
        "outputId": "bfeb0c41-754b-4381-db72-72925ac70756"
      },
      "execution_count": 3,
      "outputs": [
        {
          "output_type": "stream",
          "name": "stderr",
          "text": [
            "[nltk_data] Downloading package punkt to /root/nltk_data...\n",
            "[nltk_data]   Package punkt is already up-to-date!\n"
          ]
        },
        {
          "output_type": "execute_result",
          "data": {
            "text/plain": [
              "True"
            ]
          },
          "metadata": {},
          "execution_count": 3
        }
      ]
    },
    {
      "cell_type": "code",
      "source": [
        "url = 'https://github.com/fabiobrambilla98/InfoRetrival/blob/main/Datasets/spamtext.csv?raw=true'"
      ],
      "metadata": {
        "id": "wU_sEvrkGb64"
      },
      "execution_count": 4,
      "outputs": []
    },
    {
      "cell_type": "code",
      "source": [
        "dataset = pd.read_csv(url) #597 3860"
      ],
      "metadata": {
        "id": "uo-zCbIjHal6"
      },
      "execution_count": 5,
      "outputs": []
    },
    {
      "cell_type": "code",
      "source": [
        "D_train = dataset[:5000]\n",
        "D_test = dataset[5000:]"
      ],
      "metadata": {
        "id": "5KPi8ILMJSh9"
      },
      "execution_count": 6,
      "outputs": []
    },
    {
      "cell_type": "code",
      "source": [
        "from nltk.tokenize import word_tokenize\n",
        "from sklearn.feature_extraction.text import TfidfVectorizer"
      ],
      "metadata": {
        "id": "p7LPrxXbLI0i"
      },
      "execution_count": 7,
      "outputs": []
    },
    {
      "cell_type": "code",
      "source": [
        "vectorizer = TfidfVectorizer(tokenizer=word_tokenize, stop_words=[',', '.', '?', 'a', 'i', 'to', 'you'])"
      ],
      "metadata": {
        "id": "fKkis8PwLsy2"
      },
      "execution_count": 28,
      "outputs": []
    },
    {
      "cell_type": "code",
      "source": [
        "X = vectorizer.fit_transform(D_train['Message'])"
      ],
      "metadata": {
        "id": "s4xyGj9SNbAv"
      },
      "execution_count": 29,
      "outputs": []
    },
    {
      "cell_type": "code",
      "source": [
        "q_n = 5321"
      ],
      "metadata": {
        "id": "lH5San65KMP7"
      },
      "execution_count": 79,
      "outputs": []
    },
    {
      "cell_type": "code",
      "source": [
        "q = D_test['Message'][q_n]"
      ],
      "metadata": {
        "id": "rVZkdxSbNfdl"
      },
      "execution_count": 80,
      "outputs": []
    },
    {
      "cell_type": "code",
      "source": [
        "q_transform = vectorizer.transform([q])"
      ],
      "metadata": {
        "id": "Ik8k03kGPLaO"
      },
      "execution_count": 81,
      "outputs": []
    },
    {
      "cell_type": "code",
      "source": [
        "from sklearn.metrics.pairwise import cosine_similarity"
      ],
      "metadata": {
        "id": "O6ScuyytPVFE"
      },
      "execution_count": 82,
      "outputs": []
    },
    {
      "cell_type": "code",
      "source": [
        "similarity = cosine_similarity(q_transform, X)"
      ],
      "metadata": {
        "id": "38-1SK68PajX"
      },
      "execution_count": 83,
      "outputs": []
    },
    {
      "cell_type": "code",
      "source": [
        "answers, scores = [], []\n",
        "for i, s in sorted(enumerate(similarity[0]), key=lambda x: -x[1]):\n",
        "  answers.append(i)\n",
        "  scores.append(s)"
      ],
      "metadata": {
        "id": "jMjw8FrXP0Gn"
      },
      "execution_count": 84,
      "outputs": []
    },
    {
      "cell_type": "code",
      "source": [
        ""
      ],
      "metadata": {
        "id": "yHYeVuzZIHIL"
      },
      "execution_count": null,
      "outputs": []
    },
    {
      "cell_type": "code",
      "source": [
        "from collections import defaultdict"
      ],
      "metadata": {
        "id": "ULRO8wmx_yRa"
      },
      "execution_count": 85,
      "outputs": []
    },
    {
      "cell_type": "code",
      "source": [
        "I = defaultdict(lambda: 0)"
      ],
      "metadata": {
        "id": "LE5di7K4QC6j"
      },
      "execution_count": 86,
      "outputs": []
    },
    {
      "cell_type": "code",
      "source": [
        "features = vectorizer.get_feature_names_out()\n",
        "for i, x in enumerate(X.toarray()[0]):\n",
        "  I[features[i]] = x\n",
        "\n"
      ],
      "metadata": {
        "id": "qYevzdX-__Sa"
      },
      "execution_count": 87,
      "outputs": []
    },
    {
      "cell_type": "code",
      "source": [
        "y_true = [1 if dataset['Category'][x]==D_test['Category'][q_n] else 0 for x in answers]"
      ],
      "metadata": {
        "id": "zlc7pWkiDwWj"
      },
      "execution_count": 88,
      "outputs": []
    },
    {
      "cell_type": "code",
      "source": [
        "from sklearn.metrics import precision_recall_curve"
      ],
      "metadata": {
        "id": "6gYbTZCLJm0U"
      },
      "execution_count": 89,
      "outputs": []
    },
    {
      "cell_type": "code",
      "source": [
        "precision, recall, threshold = precision_recall_curve(y_true, scores)"
      ],
      "metadata": {
        "id": "G8to7oO1JGVC"
      },
      "execution_count": 90,
      "outputs": []
    },
    {
      "cell_type": "code",
      "source": [
        ""
      ],
      "metadata": {
        "id": "t_NagYMmMPdm"
      },
      "execution_count": null,
      "outputs": []
    },
    {
      "cell_type": "code",
      "source": [
        "import matplotlib.pyplot as plt"
      ],
      "metadata": {
        "id": "pueKa8m-Jq6J"
      },
      "execution_count": 91,
      "outputs": []
    },
    {
      "cell_type": "code",
      "source": [
        "iprec = []\n",
        "for i, w in enumerate(precision):\n",
        "    iprec.append(max(precision[:i+1]))"
      ],
      "metadata": {
        "id": "wQ4Tim1JJuWZ"
      },
      "execution_count": 92,
      "outputs": []
    },
    {
      "cell_type": "code",
      "source": [
        "fig, ax = plt.subplots()\n",
        "ax.plot(recall, iprec)\n",
        "plt.show()"
      ],
      "metadata": {
        "id": "mlyDSuvpJyuI",
        "outputId": "abaf9867-bc97-43b7-a236-914b11606f2c",
        "colab": {
          "base_uri": "https://localhost:8080/",
          "height": 265
        }
      },
      "execution_count": 93,
      "outputs": [
        {
          "output_type": "display_data",
          "data": {
            "text/plain": [
              "<Figure size 432x288 with 1 Axes>"
            ],
            "image/png": "[encoded data removed]"
          },
          "metadata": {
            "needs_background": "light"
          }
        }
      ]
    },
    {
      "cell_type": "code",
      "source": [
        "(np.diff(list(reversed(recall))) * (list(reversed(precision))[:-1])).sum()"
      ],
      "metadata": {
        "id": "PtT_lfqFMW1q",
        "outputId": "f5badae3-a6cc-4aab-98b7-ee5df34e52db",
        "colab": {
          "base_uri": "https://localhost:8080/"
        }
      },
      "execution_count": 96,
      "outputs": [
        {
          "output_type": "execute_result",
          "data": {
            "text/plain": [
              "0.9315275688418939"
            ]
          },
          "metadata": {},
          "execution_count": 96
        }
      ]
    },
    {
      "cell_type": "code",
      "source": [
        "new_arr = []\n",
        "for x in X.toarray():\n",
        "  arr = []\n",
        "  for val in x:\n",
        "    if(val > 0):\n",
        "      arr.append(1)\n",
        "    else:\n",
        "      arr.append(0)\n",
        "  new_arr.append(arr)"
      ],
      "metadata": {
        "id": "_yRQo7IwFEIl"
      },
      "execution_count": 38,
      "outputs": []
    },
    {
      "cell_type": "code",
      "source": [
        "new_arr = np.array(new_arr)"
      ],
      "metadata": {
        "id": "GfpPfSOjFoTX"
      },
      "execution_count": 39,
      "outputs": []
    },
    {
      "cell_type": "code",
      "source": [
        "stopwords = []\n",
        "new_arr\n",
        "for i in range(len(new_arr[0])):\n",
        "  times = sum(new_arr[:,i])\n",
        "  if(times/len(new_arr) > 0.15):\n",
        "    stopwords.append(features[i])\n",
        " \n",
        "  "
      ],
      "metadata": {
        "id": "_nqV-vuUAUzf"
      },
      "execution_count": 47,
      "outputs": []
    },
    {
      "cell_type": "code",
      "source": [
        "stopwords"
      ],
      "metadata": {
        "colab": {
          "base_uri": "https://localhost:8080/"
        },
        "id": "pgyEbcfPG5R7",
        "outputId": "7e8fe289-66f9-4a73-c1a9-73bbabba3571"
      },
      "execution_count": 48,
      "outputs": [
        {
          "output_type": "execute_result",
          "data": {
            "text/plain": [
              "['!', 'the']"
            ]
          },
          "metadata": {},
          "execution_count": 48
        }
      ]
    }
  ]
}